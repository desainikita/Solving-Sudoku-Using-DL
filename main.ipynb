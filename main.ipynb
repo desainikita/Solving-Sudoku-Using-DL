{
  "cells": [
    {
      "cell_type": "markdown",
      "metadata": {
        "id": "hkzRo7gznkfj"
      },
      "source": [
        "\n",
        "                                CSE 676 - DEEP LEARNING - FINAL PROJECT\n",
        "\n",
        "                        Solving Sudoku Using Image Recognition & Deep Learning\n",
        "\n",
        "                                    > TEAM MEMBERS\n",
        "                                    >> - Prajvala Rajendra Sonawane\n",
        "                                    >> - Mrunmayee Rane \n",
        "                                    >> - Nikita Satyajit Desai\n",
        "\n"
      ]
    },
    {
      "cell_type": "markdown",
      "metadata": {
        "id": "CiBAjXf6olv3"
      },
      "source": [
        "1. Installing the required libraries"
      ]
    },
    {
      "cell_type": "code",
      "execution_count": null,
      "metadata": {
        "id": "IggogX0f0QeD"
      },
      "outputs": [],
      "source": [
        "\n",
        "# !pip install numpy\n",
        "# !pip install tensorflow\n",
        "# !pip install keras\n",
        "# !pip install pillow"
      ]
    },
    {
      "cell_type": "markdown",
      "metadata": {
        "id": "v1hllD-koq8Z"
      },
      "source": [
        "2. Importing the required python libraries"
      ]
    },
    {
      "cell_type": "code",
      "execution_count": 1,
      "metadata": {
        "id": "jWQsiVDo0jbB"
      },
      "outputs": [],
      "source": [
        "import numpy as np\n",
        "import cv2 as cv\n",
        "import glob\n",
        "import os\n",
        "import re\n",
        "import pickle\n",
        "import keras\n",
        "import copy\n",
        "import sklearn\n",
        "import tensorflow as tf\n",
        "import matplotlib.pyplot as plt\n",
        "# Keras datasets and model layers\n",
        "from keras.datasets import mnist\n",
        "from keras.models import Sequential\n",
        "from keras.layers import Dense, Dropout, Conv2D, Flatten, MaxPooling2D\n",
        "from keras.preprocessing.image import ImageDataGenerator, load_img\n",
        "from keras.utils.np_utils import to_categorical\n",
        "from keras import backend as K\n",
        "from keras.utils import np_utils\n",
        "from google.colab.patches import cv2_imshow\n",
        "# keras optimizers and sklearn utiity\n",
        "from sklearn.model_selection import train_test_split\n",
        "from tensorflow.keras.optimizers import RMSprop\n",
        "from tensorflow.keras.preprocessing.image import ImageDataGenerator\n"
      ]
    },
    {
      "cell_type": "code",
      "execution_count": 2,
      "metadata": {
        "id": "eLTRY6RAxoRt"
      },
      "outputs": [],
      "source": [
        "from load_data import *\n",
        "from model import *\n",
        "from load_data import *\n",
        "from utility.pickle import *\n",
        "from utility.plot import *\n",
        "from process_image import *\n",
        "from sudoku import *"
      ]
    },
    {
      "cell_type": "markdown",
      "metadata": {
        "id": "zC2tcPBFpR0t"
      },
      "source": [
        "3. Setting the hyperparameters"
      ]
    },
    {
      "cell_type": "code",
      "execution_count": 3,
      "metadata": {
        "id": "-ySA-7AH08-8"
      },
      "outputs": [],
      "source": [
        "\n",
        "batch_size = 128\n",
        "epochs = 500\n",
        "no_of_classes = 10\n",
        "input_shape = (32, 32, 1)\n",
        "activation_functions = [\"relu\", \"softmax\"]\n",
        "learning_rate = 0.001\n",
        "epsilon = 1e-08\n",
        "epsilon_decay = 0.0\n",
        "loss_type = \"categorical_crossentropy\"\n",
        "digitclassifier_model_filename = \"cfk-digit-recognition-500epochs.h5\"\n",
        "sudoku_shape = (9,9,1)"
      ]
    },
    {
      "cell_type": "markdown",
      "metadata": {
        "id": "WIG-u4yRt7gp"
      },
      "source": [
        "4. Loading the Chars74k dataset saved in dataset folder\n",
        "> Reference link =>  http://www.ee.surrey.ac.uk/CVSSP/demos/chars74k/\n",
        "\n",
        "\n",
        "\n"
      ]
    },
    {
      "cell_type": "code",
      "execution_count": 18,
      "metadata": {
        "colab": {
          "base_uri": "https://localhost:8080/"
        },
        "id": "Vuo4l9hxxh7r",
        "outputId": "90250116-2ae4-473e-ed9b-937a8e35f190"
      },
      "outputs": [
        {
          "name": "stdout",
          "output_type": "stream",
          "text": [
            "Drive already mounted at /content/drive; to attempt to forcibly remount, call drive.mount(\"/content/drive\", force_remount=True).\n"
          ]
        }
      ],
      "source": [
        "from google.colab import drive\n",
        "\n",
        "# This will prompt for authorization.\n",
        "drive.mount('/content/drive')"
      ]
    },
    {
      "cell_type": "code",
      "execution_count": null,
      "metadata": {
        "id": "lehPZQYdubiH"
      },
      "outputs": [],
      "source": [
        "dataset_root_folder = \"/content/drive/MyDrive/DL Project/input/Digits/Digits\"\n",
        "X = [] # Loading data for training and testing\n",
        "Y = [] # Loading output true values - ground truth for calculating loss"
      ]
    },
    {
      "cell_type": "code",
      "execution_count": null,
      "metadata": {
        "colab": {
          "base_uri": "https://localhost:8080/"
        },
        "id": "_pMM6CYMt7GV",
        "outputId": "385b6c25-3738-4e58-f75b-3ef0aca43245"
      },
      "outputs": [
        {
          "name": "stdout",
          "output_type": "stream",
          "text": [
            "Dataset Loaded !\n"
          ]
        }
      ],
      "source": [
        "X, Y = load_data(no_of_classes=no_of_classes, dataset_root_folder= dataset_root_folder)"
      ]
    },
    {
      "cell_type": "code",
      "execution_count": null,
      "metadata": {
        "colab": {
          "base_uri": "https://localhost:8080/"
        },
        "id": "RMSV1tqHx_MT",
        "outputId": "54f3adac-b6c4-41c1-ee22-bc57b3038e0a"
      },
      "outputs": [
        {
          "name": "stdout",
          "output_type": "stream",
          "text": [
            "Length of the loaded dataset : 885\n"
          ]
        }
      ],
      "source": [
        "print(f\"Length of the loaded dataset : {len(X)}\")"
      ]
    },
    {
      "cell_type": "code",
      "execution_count": null,
      "metadata": {
        "colab": {
          "base_uri": "https://localhost:8080/"
        },
        "id": "DfxXFAdxy30F",
        "outputId": "9b225c68-a51f-4fb6-9ac3-bcedf04cdfea"
      },
      "outputs": [
        {
          "name": "stdout",
          "output_type": "stream",
          "text": [
            "Training Set Shape =  (672, 32, 32, 3)\n",
            "Validation Set Shape =  (168, 32, 32, 3)\n",
            "Test Set Shape =  (45, 32, 32, 3)\n"
          ]
        }
      ],
      "source": [
        "train_X, test_X, train_y, test_y = train_test_split(X,Y,test_size=0.05)\n",
        "train_X, valid_X, train_y, valid_y = train_test_split(train_X,train_y,test_size=0.2)\n",
        "print(\"Training Set Shape = \",train_X.shape)\n",
        "print(\"Validation Set Shape = \",valid_X.shape)\n",
        "print(\"Test Set Shape = \",test_X.shape)"
      ]
    },
    {
      "cell_type": "markdown",
      "metadata": {},
      "source": [
        "5. Preprocess the dataset"
      ]
    },
    {
      "cell_type": "code",
      "execution_count": null,
      "metadata": {
        "colab": {
          "base_uri": "https://localhost:8080/"
        },
        "id": "LdM5rAP_zIuH",
        "outputId": "39ecb4c7-8770-4aab-ae07-6a230e24e76b"
      },
      "outputs": [
        {
          "name": "stdout",
          "output_type": "stream",
          "text": [
            "Hello\n",
            "(672, 32, 32, 3)\n",
            "(672, 32, 32, 3)\n"
          ]
        }
      ],
      "source": [
        "data_dict = {\n",
        "    \"train\": train_X,\n",
        "    \"validation\" : valid_X,\n",
        "    \"test\" : test_X\n",
        "}\n",
        "\n",
        "x_train, x_valid , x_test = preprocess(data_dict)\n"
      ]
    },
    {
      "cell_type": "code",
      "execution_count": null,
      "metadata": {
        "id": "UxjpR_VP8-fi"
      },
      "outputs": [],
      "source": [
        "y_train = to_categorical(train_y, no_of_classes)\n",
        "y_valid = to_categorical(valid_y, no_of_classes)\n",
        "y_test = to_categorical(test_y, no_of_classes)"
      ]
    },
    {
      "cell_type": "markdown",
      "metadata": {},
      "source": [
        "6. Get the deep learning model defined for image recognition"
      ]
    },
    {
      "cell_type": "code",
      "execution_count": null,
      "metadata": {
        "id": "osy-2S46FBWb"
      },
      "outputs": [],
      "source": [
        "# Load model for digit image recognition\n",
        "\n",
        "model_digit_identifier = get_imageRecognition_model(input_shape= input_shape, activation_functions= activation_functions,padding = \"same\", output_shape= no_of_classes)\n",
        "\n",
        "model_optimizer = tf.keras.optimizers.RMSprop(\n",
        "    learning_rate= learning_rate,\n",
        "    rho=0.9,\n",
        "    # momentum=0,\n",
        "    epsilon = epsilon,\n",
        "    decay = epsilon_decay,\n",
        "    centered=False,\n",
        "    name=\"RMSprop\"\n",
        "    # **kwargs\n",
        ")\n",
        "model_digit_identifier.compile(optimizer = model_optimizer,loss= loss_type ,metrics=['accuracy'])"
      ]
    },
    {
      "cell_type": "markdown",
      "metadata": {},
      "source": [
        "7. Train the model"
      ]
    },
    {
      "cell_type": "code",
      "execution_count": null,
      "metadata": {
        "colab": {
          "base_uri": "https://localhost:8080/"
        },
        "id": "Gp2UR4Ol1Q5r",
        "outputId": "f5b15333-b012-4c78-cf24-6ac4cdb1e556"
      },
      "outputs": [
        {
          "name": "stdout",
          "output_type": "stream",
          "text": [
            "Epoch 1/10\n",
            "6/6 [==============================] - 16s 2s/step - loss: 2.2806 - accuracy: 0.1711 - val_loss: 2.2363 - val_accuracy: 0.1845\n",
            "Epoch 2/10\n",
            "6/6 [==============================] - 16s 2s/step - loss: 2.2338 - accuracy: 0.1830 - val_loss: 2.2931 - val_accuracy: 0.1845\n",
            "Epoch 3/10\n",
            "6/6 [==============================] - 13s 2s/step - loss: 2.2690 - accuracy: 0.2068 - val_loss: 2.1721 - val_accuracy: 0.1845\n",
            "Epoch 4/10\n",
            "6/6 [==============================] - 13s 2s/step - loss: 2.1491 - accuracy: 0.2411 - val_loss: 2.1074 - val_accuracy: 0.3690\n",
            "Epoch 5/10\n",
            "6/6 [==============================] - 13s 2s/step - loss: 2.1697 - accuracy: 0.3393 - val_loss: 1.8115 - val_accuracy: 0.4702\n",
            "Epoch 6/10\n",
            "6/6 [==============================] - 13s 2s/step - loss: 1.7555 - accuracy: 0.3914 - val_loss: 1.5928 - val_accuracy: 0.5595\n",
            "Epoch 7/10\n",
            "6/6 [==============================] - 14s 2s/step - loss: 1.5620 - accuracy: 0.5030 - val_loss: 1.4658 - val_accuracy: 0.5238\n",
            "Epoch 8/10\n",
            "6/6 [==============================] - 13s 2s/step - loss: 1.2661 - accuracy: 0.5908 - val_loss: 1.1146 - val_accuracy: 0.6131\n",
            "Epoch 9/10\n",
            "6/6 [==============================] - 13s 2s/step - loss: 1.0052 - accuracy: 0.6756 - val_loss: 1.1677 - val_accuracy: 0.6131\n",
            "Epoch 10/10\n",
            "6/6 [==============================] - 13s 2s/step - loss: 0.9857 - accuracy: 0.6711 - val_loss: 0.7728 - val_accuracy: 0.8036\n",
            "Training the digit classifier model is completed successfully\n"
          ]
        }
      ],
      "source": [
        "# Train the model\n",
        "history = model_digit_identifier.fit(x_train, y_train,batch_size=batch_size,epochs=10,verbose=1,validation_data=(x_valid, y_valid))\n",
        "print(\"Training the digit classifier model is completed successfully\")\n"
      ]
    },
    {
      "cell_type": "code",
      "execution_count": null,
      "metadata": {
        "colab": {
          "base_uri": "https://localhost:8080/"
        },
        "id": "OPsLZpEThIZf",
        "outputId": "9a0a8675-1672-4f3f-e710-07d99e30a02b"
      },
      "outputs": [
        {
          "name": "stdout",
          "output_type": "stream",
          "text": [
            "Saved the digit recognition model as cfk-digit-recognition-500epochs.h5\n"
          ]
        }
      ],
      "source": [
        "\n",
        "# Save the trained model in digitclassifier_model_filename\n",
        "\n",
        "model_digit_identifier.save(digitclassifier_model_filename)\n",
        "print(f\"Saved the digit recognition model as {digitclassifier_model_filename}\")\n",
        "\n",
        "# Save the history metrics as well if needed for analysis later\n"
      ]
    },
    {
      "cell_type": "code",
      "execution_count": null,
      "metadata": {
        "colab": {
          "base_uri": "https://localhost:8080/"
        },
        "id": "z-faJ2KrIFnH",
        "outputId": "1b7a6f7e-b598-4427-e070-d630a8c2d05a"
      },
      "outputs": [
        {
          "name": "stdout",
          "output_type": "stream",
          "text": [
            "Saved model history at /pickled_files/train_history_10epochs\n"
          ]
        }
      ],
      "source": [
        "# Pickle - store the model metrics for use later\n",
        "save_metrics(history = history, pickle_file_name=\"train_history_10epochs.pckl\",path_to_save= \"/content/pickled_files\")\n",
        "print(f\"Saved model history at /pickled_files/train_history_10epochs\")"
      ]
    },
    {
      "cell_type": "code",
      "execution_count": null,
      "metadata": {
        "id": "YyuwnkcwMVqY"
      },
      "outputs": [],
      "source": [
        "# Reload the model metrics for plotting training loss and accuracy\n",
        "loaded_history = load_metrics(\"/content/pickled_files/train_history_10epochs.pckl\")"
      ]
    },
    {
      "cell_type": "code",
      "execution_count": null,
      "metadata": {
        "colab": {
          "base_uri": "https://localhost:8080/"
        },
        "id": "IEgUFMKesv7o",
        "outputId": "875f3e5c-7615-41dd-8001-ca2231cf9e70"
      },
      "outputs": [
        {
          "data": {
            "text/plain": [
              "dict_keys(['loss', 'accuracy', 'val_loss', 'val_accuracy'])"
            ]
          },
          "execution_count": 3,
          "metadata": {},
          "output_type": "execute_result"
        }
      ],
      "source": [
        "loaded_history.keys()"
      ]
    },
    {
      "cell_type": "code",
      "execution_count": null,
      "metadata": {
        "colab": {
          "base_uri": "https://localhost:8080/",
          "height": 573
        },
        "id": "V0Zw7svKOewh",
        "outputId": "f425ac69-4944-4a50-c395-fe8bef0d3ac6"
      },
      "outputs": [
        {
          "data": {
            "image/png": "[encoded data removed]",
            "text/plain": [
              "<Figure size 432x288 with 1 Axes>"
            ]
          },
          "metadata": {
            "needs_background": "light"
          },
          "output_type": "display_data"
        },
        {
          "data": {
            "image/png": "[encoded data removed]",
            "text/plain": [
              "<Figure size 432x288 with 1 Axes>"
            ]
          },
          "metadata": {
            "needs_background": "light"
          },
          "output_type": "display_data"
        }
      ],
      "source": [
        "# Plot the metrics\n",
        "plot(loaded_history)"
      ]
    },
    {
      "cell_type": "code",
      "execution_count": null,
      "metadata": {
        "id": "ZeRWm2sNPJc1"
      },
      "outputs": [],
      "source": [
        "# Loading the saved model\n",
        "model_digit_identifier = keras.models.load_model(digitclassifier_model_filename)"
      ]
    },
    {
      "cell_type": "code",
      "execution_count": null,
      "metadata": {
        "colab": {
          "base_uri": "https://localhost:8080/"
        },
        "id": "vZiSBgKz8N_x",
        "outputId": "8202e018-813a-47ed-f753-7db1a47179f5"
      },
      "outputs": [
        {
          "name": "stdout",
          "output_type": "stream",
          "text": [
            "Testing loss: 0.718481719493866 Test accuracy: 0.800000011920929\n"
          ]
        }
      ],
      "source": [
        "# Testing the pre-trained model on test data\n",
        "testing_results = model_digit_identifier.evaluate(x_test, y_test, verbose=0)\n",
        "print('Testing loss:', testing_results[0] , \"Test accuracy:\", testing_results[1])\n"
      ]
    },
    {
      "cell_type": "code",
      "execution_count": null,
      "metadata": {
        "colab": {
          "base_uri": "https://localhost:8080/"
        },
        "id": "HDw_KUzwQCLT",
        "outputId": "f6a15b4b-76d0-4d96-9efa-98d6e9c1f97c"
      },
      "outputs": [
        {
          "data": {
            "text/plain": [
              "array([[0., 0., 0., ..., 1., 0., 0.],\n",
              "       [0., 0., 1., ..., 0., 0., 0.],\n",
              "       [0., 1., 0., ..., 0., 0., 0.],\n",
              "       ...,\n",
              "       [0., 0., 0., ..., 0., 0., 0.],\n",
              "       [0., 0., 0., ..., 0., 0., 0.],\n",
              "       [0., 0., 0., ..., 0., 0., 0.]], dtype=float32)"
            ]
          },
          "execution_count": 26,
          "metadata": {},
          "output_type": "execute_result"
        }
      ],
      "source": [
        "# y_test"
      ]
    },
    {
      "cell_type": "code",
      "execution_count": null,
      "metadata": {
        "colab": {
          "base_uri": "https://localhost:8080/",
          "height": 95
        },
        "id": "0Mzp8vdYcOsI",
        "outputId": "4c433450-9075-40d4-e27b-bc3fa0ef52ae"
      },
      "outputs": [
        {
          "data": {
            "image/png": "[encoded data removed]",
            "text/plain": [
              "<PIL.Image.Image image mode=L size=40x42 at 0x7F98926F3A90>"
            ]
          },
          "metadata": {},
          "output_type": "display_data"
        },
        {
          "name": "stdout",
          "output_type": "stream",
          "text": [
            "prediction shape: (10,)\n",
            "Predicted value of digit :  3  Prediction :  0.49199274\n"
          ]
        }
      ],
      "source": [
        "# Sample testing on a single digit image\n",
        "\n",
        "# model1 = keras.models.load_model('/content/mnist-200epochs.h5')\n",
        "# model1 = keras.models.load_model('/content/mnist-analytics-cfk-2.h5')\n",
        "model1 = model_digit_identifier\n",
        "file = \"/content/dataset/51.jpg\"\n",
        "\n",
        "image3 = cv.imread(file, cv.IMREAD_GRAYSCALE)\n",
        "cv2_imshow(image3)\n",
        "if (image3 is not None and image3.size == 0):\n",
        "     print(\"Error reading file\")\n",
        "    #  return -1\n",
        "image3 = cv.resize(image3, (32, 32))\n",
        "image3 = image3.astype('float32')\n",
        "image3 = image3.reshape(1, 32, 32, 1)\n",
        "image3 = 255-image3\n",
        "image3 /= 255\n",
        "\n",
        "# actual3 = np.array([0., 1., 0., 0., 0., 0., 0., 0., 0., 0.])\n",
        "test3 = np.array(image3)\n",
        "\n",
        "prediction3 = model1.predict(test3[:1])[0]\n",
        "print(\"prediction shape:\", prediction3.shape)\n",
        "\n",
        "print(\"Predicted value of digit : \", np.argmax(prediction3),\" Prediction : \", max(prediction3))"
      ]
    },
    {
      "cell_type": "markdown",
      "metadata": {
        "id": "7gIJ64rZVyJ0"
      },
      "source": [
        "Part 2 - Loading image and preprocessing"
      ]
    },
    {
      "cell_type": "code",
      "execution_count": null,
      "metadata": {
        "colab": {
          "base_uri": "https://localhost:8080/",
          "height": 417
        },
        "id": "qb1Z72i7RnMd",
        "outputId": "37a4afaf-9138-490b-b7c3-7779fd5a2e0f"
      },
      "outputs": [
        {
          "name": "stdout",
          "output_type": "stream",
          "text": [
            "Enter path of input file : \n",
            "/content/sudoku90.png\n"
          ]
        },
        {
          "data": {
            "image/png": "[encoded data removed]",
            "text/plain": [
              "<PIL.Image.Image image mode=RGB size=364x364 at 0x7FD520018B90>"
            ]
          },
          "metadata": {},
          "output_type": "display_data"
        }
      ],
      "source": [
        "print(\"Enter path of input file : \" )\n",
        "file_path = input() # Included sample image input file path /content/sudoku90.png\n",
        "\n",
        "input_image = cv.imread(file_path)\n",
        "\n",
        "if (input_image is not None and input_image.size == 0):\n",
        "     print(\"Error reading file\")\n",
        "\n",
        "\n",
        "cv2_imshow(input_image)"
      ]
    },
    {
      "cell_type": "code",
      "execution_count": null,
      "metadata": {
        "colab": {
          "base_uri": "https://localhost:8080/",
          "height": 1000
        },
        "id": "HHmVI7uqPPmP",
        "outputId": "8ca7b257-23e9-48bb-b39f-26909686d435"
      },
      "outputs": [
        {
          "data": {
            "image/png": "[encoded data removed]",
            "text/plain": [
              "<Figure size 432x288 with 1 Axes>"
            ]
          },
          "metadata": {
            "needs_background": "light"
          },
          "output_type": "display_data"
        },
        {
          "data": {
            "image/png": "[encoded data removed]",
            "text/plain": [
              "<Figure size 432x288 with 1 Axes>"
            ]
          },
          "metadata": {
            "needs_background": "light"
          },
          "output_type": "display_data"
        },
        {
          "data": {
            "image/png": "[encoded data removed]",
            "text/plain": [
              "<Figure size 432x288 with 1 Axes>"
            ]
          },
          "metadata": {
            "needs_background": "light"
          },
          "output_type": "display_data"
        },
        {
          "data": {
            "image/png": "[encoded data removed]",
            "text/plain": [
              "<Figure size 432x288 with 1 Axes>"
            ]
          },
          "metadata": {
            "needs_background": "light"
          },
          "output_type": "display_data"
        },
        {
          "data": {
            "image/png": "[encoded data removed]",
            "text/plain": [
              "<Figure size 432x288 with 1 Axes>"
            ]
          },
          "metadata": {
            "needs_background": "light"
          },
          "output_type": "display_data"
        }
      ],
      "source": [
        "\n",
        "img = cv.resize(input_image, (450,450))\n",
        "\n",
        "threshold_image = preprocess_image(img)\n",
        "plt.figure()\n",
        "plt.title('Processed image after thresholding')\n",
        "plt.imshow(threshold_image)\n",
        "plt.show()\n",
        "\n",
        "\n",
        "plt.figure()\n",
        "plt.title('Processed image after contouring')\n",
        "contour_fig1, contour_fig2 ,contour, hierarchy = contouring(img, threshold_image)\n",
        "plt.imshow(contour_fig1)\n",
        "plt.show()\n",
        "\n",
        "plt.figure()\n",
        "plt.title('Processed image after image wrapping')\n",
        "wrapped_image = wrap(img, contour, contour_fig2)\n",
        "plt.imshow(wrapped_image)\n",
        "plt.show()\n",
        "\n",
        "plt.figure()\n",
        "plt.title('Split cell')\n",
        "sudoku_cell = splitcells(wrapped_image)\n",
        "plt.imshow(sudoku_cell[0])\n",
        "plt.show()\n",
        "\n",
        "plt.figure()\n",
        "plt.title('Cropped cell')\n",
        "cropped_sudoku = crop(sudoku_cell)\n",
        "plt.imshow(cropped_sudoku[0])\n",
        "plt.show()"
      ]
    },
    {
      "cell_type": "code",
      "execution_count": null,
      "metadata": {
        "id": "LR4UVHCwPcJ4"
      },
      "outputs": [],
      "source": [
        "# Write into files\n",
        "\n",
        "path = './cropnum'\n",
        "for i in range(len(cropped_sudoku)):\n",
        "    x = cv.imwrite(os.path.join(path ,f\"{i}.jpg\"),cropped_sudoku[i])\n"
      ]
    },
    {
      "cell_type": "code",
      "execution_count": null,
      "metadata": {
        "id": "RjliTmdkPe0M"
      },
      "outputs": [],
      "source": [
        "# Load model for predictions\n",
        "model1 = keras.models.load_model('/content/mnist-analytics-cfk-1.h5')"
      ]
    },
    {
      "cell_type": "code",
      "execution_count": null,
      "metadata": {
        "colab": {
          "base_uri": "https://localhost:8080/",
          "height": 1000
        },
        "id": "CdT_SiyKPh2f",
        "outputId": "2147b7fe-7885-4400-bfd9-4530d551b12d"
      },
      "outputs": [
        {
          "data": {
            "image/png": "[encoded data removed]",
            "text/plain": [
              "<PIL.Image.Image image mode=RGB size=40x42 at 0x7FD495D51650>"
            ]
          },
          "metadata": {},
          "output_type": "display_data"
        },
        {
          "name": "stdout",
          "output_type": "stream",
          "text": [
            "Predicted :  5\n"
          ]
        },
        {
          "data": {
            "image/png": "[encoded data removed]",
            "text/plain": [
              "<PIL.Image.Image image mode=RGB size=40x42 at 0x7FD495D51BD0>"
            ]
          },
          "metadata": {},
          "output_type": "display_data"
        },
        {
          "name": "stdout",
          "output_type": "stream",
          "text": [
            "Predicted :  3\n"
          ]
        },
        {
          "data": {
            "image/png": "[encoded data removed]",
            "text/plain": [
              "<PIL.Image.Image image mode=RGB size=40x42 at 0x7FD495BA2290>"
            ]
          },
          "metadata": {},
          "output_type": "display_data"
        },
        {
          "name": "stdout",
          "output_type": "stream",
          "text": [
            "Predicted :  0\n"
          ]
        },
        {
          "data": {
            "image/png": "[encoded data removed]",
            "text/plain": [
              "<PIL.Image.Image image mode=RGB size=40x42 at 0x7FD495716810>"
            ]
          },
          "metadata": {},
          "output_type": "display_data"
        },
        {
          "name": "stdout",
          "output_type": "stream",
          "text": [
            "Predicted :  0\n"
          ]
        },
        {
          "data": {
            "image/png": "[encoded data removed]",
            "text/plain": [
              "<PIL.Image.Image image mode=RGB size=40x42 at 0x7FD495BA2F50>"
            ]
          },
          "metadata": {},
          "output_type": "display_data"
        },
        {
          "name": "stdout",
          "output_type": "stream",
          "text": [
            "Predicted :  7\n"
          ]
        },
        {
          "data": {
            "image/png": "[encoded data removed]",
            "text/plain": [
              "<PIL.Image.Image image mode=RGB size=40x42 at 0x7FD48F9480D0>"
            ]
          },
          "metadata": {},
          "output_type": "display_data"
        },
        {
          "name": "stdout",
          "output_type": "stream",
          "text": [
            "Predicted :  0\n"
          ]
        },
        {
          "data": {
            "image/png": "[encoded data removed]",
            "text/plain": [
              "<PIL.Image.Image image mode=RGB size=40x42 at 0x7FD4962AA350>"
            ]
          },
          "metadata": {},
          "output_type": "display_data"
        },
        {
          "name": "stdout",
          "output_type": "stream",
          "text": [
            "Predicted :  0\n"
          ]
        },
        {
          "data": {
            "image/png": "[encoded data removed]",
            "text/plain": [
              "<PIL.Image.Image image mode=RGB size=40x42 at 0x7FD4962AA110>"
            ]
          },
          "metadata": {},
          "output_type": "display_data"
        },
        {
          "name": "stdout",
          "output_type": "stream",
          "text": [
            "Predicted :  0\n"
          ]
        },
        {
          "data": {
            "image/png": "[encoded data removed]",
            "text/plain": [
              "<PIL.Image.Image image mode=RGB size=40x42 at 0x7FD496B4C310>"
            ]
          },
          "metadata": {},
          "output_type": "display_data"
        },
        {
          "name": "stdout",
          "output_type": "stream",
          "text": [
            "Predicted :  0\n"
          ]
        },
        {
          "data": {
            "image/png": "[encoded data removed]",
            "text/plain": [
              "<PIL.Image.Image image mode=RGB size=40x42 at 0x7FD4962AAB50>"
            ]
          },
          "metadata": {},
          "output_type": "display_data"
        },
        {
          "name": "stdout",
          "output_type": "stream",
          "text": [
            "Predicted :  6\n"
          ]
        },
        {
          "data": {
            "image/png": "[encoded data removed]",
            "text/plain": [
              "<PIL.Image.Image image mode=RGB size=40x42 at 0x7FD4962AAC50>"
            ]
          },
          "metadata": {},
          "output_type": "display_data"
        },
        {
          "name": "stdout",
          "output_type": "stream",
          "text": [
            "Predicted :  0\n"
          ]
        },
        {
          "data": {
            "image/png": "[encoded data removed]",
            "text/plain": [
              "<PIL.Image.Image image mode=RGB size=40x42 at 0x7FD4962AA550>"
            ]
          },
          "metadata": {},
          "output_type": "display_data"
        },
        {
          "name": "stdout",
          "output_type": "stream",
          "text": [
            "Predicted :  0\n"
          ]
        },
        {
          "data": {
            "image/png": "[encoded data removed]",
            "text/plain": [
              "<PIL.Image.Image image mode=RGB size=40x42 at 0x7FD496B4CBD0>"
            ]
          },
          "metadata": {},
          "output_type": "display_data"
        },
        {
          "name": "stdout",
          "output_type": "stream",
          "text": [
            "Predicted :  1\n"
          ]
        },
        {
          "data": {
            "image/png": "[encoded data removed]",
            "text/plain": [
              "<PIL.Image.Image image mode=RGB size=40x42 at 0x7FD495D64E10>"
            ]
          },
          "metadata": {},
          "output_type": "display_data"
        },
        {
          "name": "stdout",
          "output_type": "stream",
          "text": [
            "Predicted :  9\n"
          ]
        },
        {
          "data": {
            "image/png": "[encoded data removed]",
            "text/plain": [
              "<PIL.Image.Image image mode=RGB size=40x42 at 0x7FD495D64350>"
            ]
          },
          "metadata": {},
          "output_type": "display_data"
        },
        {
          "name": "stdout",
          "output_type": "stream",
          "text": [
            "Predicted :  5\n"
          ]
        },
        {
          "data": {
            "image/png": "[encoded data removed]",
            "text/plain": [
              "<PIL.Image.Image image mode=RGB size=40x42 at 0x7FD495DE9E90>"
            ]
          },
          "metadata": {},
          "output_type": "display_data"
        },
        {
          "name": "stdout",
          "output_type": "stream",
          "text": [
            "Predicted :  0\n"
          ]
        },
        {
          "data": {
            "image/png": "[encoded data removed]",
            "text/plain": [
              "<PIL.Image.Image image mode=RGB size=40x42 at 0x7FD495798290>"
            ]
          },
          "metadata": {},
          "output_type": "display_data"
        },
        {
          "name": "stdout",
          "output_type": "stream",
          "text": [
            "Predicted :  0\n"
          ]
        },
        {
          "data": {
            "image/png": "[encoded data removed]",
            "text/plain": [
              "<PIL.Image.Image image mode=RGB size=40x42 at 0x7FD4957A7390>"
            ]
          },
          "metadata": {},
          "output_type": "display_data"
        },
        {
          "name": "stdout",
          "output_type": "stream",
          "text": [
            "Predicted :  0\n"
          ]
        },
        {
          "data": {
            "image/png": "[encoded data removed]",
            "text/plain": [
              "<PIL.Image.Image image mode=RGB size=40x42 at 0x7FD495798AD0>"
            ]
          },
          "metadata": {},
          "output_type": "display_data"
        },
        {
          "name": "stdout",
          "output_type": "stream",
          "text": [
            "Predicted :  0\n"
          ]
        },
        {
          "data": {
            "image/png": "[encoded data removed]",
            "text/plain": [
              "<PIL.Image.Image image mode=RGB size=40x42 at 0x7FD4957A7750>"
            ]
          },
          "metadata": {},
          "output_type": "display_data"
        },
        {
          "name": "stdout",
          "output_type": "stream",
          "text": [
            "Predicted :  9\n"
          ]
        },
        {
          "data": {
            "image/png": "[encoded data removed]",
            "text/plain": [
              "<PIL.Image.Image image mode=RGB size=40x42 at 0x7FD495790410>"
            ]
          },
          "metadata": {},
          "output_type": "display_data"
        },
        {
          "name": "stdout",
          "output_type": "stream",
          "text": [
            "Predicted :  8\n"
          ]
        },
        {
          "data": {
            "image/png": "[encoded data removed]",
            "text/plain": [
              "<PIL.Image.Image image mode=RGB size=40x42 at 0x7FD495153C90>"
            ]
          },
          "metadata": {},
          "output_type": "display_data"
        },
        {
          "name": "stdout",
          "output_type": "stream",
          "text": [
            "Predicted :  0\n"
          ]
        },
        {
          "data": {
            "image/png": "[encoded data removed]",
            "text/plain": [
              "<PIL.Image.Image image mode=RGB size=40x42 at 0x7FD495790D90>"
            ]
          },
          "metadata": {},
          "output_type": "display_data"
        },
        {
          "name": "stdout",
          "output_type": "stream",
          "text": [
            "Predicted :  0\n"
          ]
        },
        {
          "data": {
            "image/png": "[encoded data removed]",
            "text/plain": [
              "<PIL.Image.Image image mode=RGB size=40x42 at 0x7FD49576E690>"
            ]
          },
          "metadata": {},
          "output_type": "display_data"
        },
        {
          "name": "stdout",
          "output_type": "stream",
          "text": [
            "Predicted :  0\n"
          ]
        },
        {
          "data": {
            "image/png": "[encoded data removed]",
            "text/plain": [
              "<PIL.Image.Image image mode=RGB size=40x42 at 0x7FD495790F90>"
            ]
          },
          "metadata": {},
          "output_type": "display_data"
        },
        {
          "name": "stdout",
          "output_type": "stream",
          "text": [
            "Predicted :  0\n"
          ]
        },
        {
          "data": {
            "image/png": "[encoded data removed]",
            "text/plain": [
              "<PIL.Image.Image image mode=RGB size=40x42 at 0x7FD495790050>"
            ]
          },
          "metadata": {},
          "output_type": "display_data"
        },
        {
          "name": "stdout",
          "output_type": "stream",
          "text": [
            "Predicted :  6\n"
          ]
        },
        {
          "data": {
            "image/png": "[encoded data removed]",
            "text/plain": [
              "<PIL.Image.Image image mode=RGB size=40x42 at 0x7FD495790050>"
            ]
          },
          "metadata": {},
          "output_type": "display_data"
        },
        {
          "name": "stdout",
          "output_type": "stream",
          "text": [
            "Predicted :  0\n"
          ]
        },
        {
          "data": {
            "image/png": "[encoded data removed]",
            "text/plain": [
              "<PIL.Image.Image image mode=RGB size=40x42 at 0x7FD49520C050>"
            ]
          },
          "metadata": {},
          "output_type": "display_data"
        },
        {
          "name": "stdout",
          "output_type": "stream",
          "text": [
            "Predicted :  8\n"
          ]
        },
        {
          "data": {
            "image/png": "[encoded data removed]",
            "text/plain": [
              "<PIL.Image.Image image mode=RGB size=40x42 at 0x7FD48F9AC850>"
            ]
          },
          "metadata": {},
          "output_type": "display_data"
        },
        {
          "name": "stdout",
          "output_type": "stream",
          "text": [
            "Predicted :  0\n"
          ]
        },
        {
          "data": {
            "image/png": "[encoded data removed]",
            "text/plain": [
              "<PIL.Image.Image image mode=RGB size=40x42 at 0x7FD49519B990>"
            ]
          },
          "metadata": {},
          "output_type": "display_data"
        },
        {
          "name": "stdout",
          "output_type": "stream",
          "text": [
            "Predicted :  0\n"
          ]
        },
        {
          "data": {
            "image/png": "[encoded data removed]",
            "text/plain": [
              "<PIL.Image.Image image mode=RGB size=40x42 at 0x7FD495B233D0>"
            ]
          },
          "metadata": {},
          "output_type": "display_data"
        },
        {
          "name": "stdout",
          "output_type": "stream",
          "text": [
            "Predicted :  0\n"
          ]
        },
        {
          "data": {
            "image/png": "[encoded data removed]",
            "text/plain": [
              "<PIL.Image.Image image mode=RGB size=40x42 at 0x7FD495B23B90>"
            ]
          },
          "metadata": {},
          "output_type": "display_data"
        },
        {
          "name": "stdout",
          "output_type": "stream",
          "text": [
            "Predicted :  6\n"
          ]
        },
        {
          "data": {
            "image/png": "[encoded data removed]",
            "text/plain": [
              "<PIL.Image.Image image mode=RGB size=40x42 at 0x7FD49567BF50>"
            ]
          },
          "metadata": {},
          "output_type": "display_data"
        },
        {
          "name": "stdout",
          "output_type": "stream",
          "text": [
            "Predicted :  0\n"
          ]
        },
        {
          "data": {
            "image/png": "[encoded data removed]",
            "text/plain": [
              "<PIL.Image.Image image mode=RGB size=40x42 at 0x7FD495139950>"
            ]
          },
          "metadata": {},
          "output_type": "display_data"
        },
        {
          "name": "stdout",
          "output_type": "stream",
          "text": [
            "Predicted :  0\n"
          ]
        },
        {
          "data": {
            "image/png": "[encoded data removed]",
            "text/plain": [
              "<PIL.Image.Image image mode=RGB size=40x42 at 0x7FD495114A90>"
            ]
          },
          "metadata": {},
          "output_type": "display_data"
        },
        {
          "name": "stdout",
          "output_type": "stream",
          "text": [
            "Predicted :  0\n"
          ]
        },
        {
          "data": {
            "image/png": "[encoded data removed]",
            "text/plain": [
              "<PIL.Image.Image image mode=RGB size=40x42 at 0x7FD4957A1A90>"
            ]
          },
          "metadata": {},
          "output_type": "display_data"
        },
        {
          "name": "stdout",
          "output_type": "stream",
          "text": [
            "Predicted :  3\n"
          ]
        },
        {
          "data": {
            "image/png": "[encoded data removed]",
            "text/plain": [
              "<PIL.Image.Image image mode=RGB size=40x42 at 0x7FD495798710>"
            ]
          },
          "metadata": {},
          "output_type": "display_data"
        },
        {
          "name": "stdout",
          "output_type": "stream",
          "text": [
            "Predicted :  4\n"
          ]
        },
        {
          "data": {
            "image/png": "[encoded data removed]",
            "text/plain": [
              "<PIL.Image.Image image mode=RGB size=40x42 at 0x7FD49576DB10>"
            ]
          },
          "metadata": {},
          "output_type": "display_data"
        },
        {
          "name": "stdout",
          "output_type": "stream",
          "text": [
            "Predicted :  0\n"
          ]
        },
        {
          "data": {
            "image/png": "[encoded data removed]",
            "text/plain": [
              "<PIL.Image.Image image mode=RGB size=40x42 at 0x7FD49579AB50>"
            ]
          },
          "metadata": {},
          "output_type": "display_data"
        },
        {
          "name": "stdout",
          "output_type": "stream",
          "text": [
            "Predicted :  0\n"
          ]
        },
        {
          "data": {
            "image/png": "[encoded data removed]",
            "text/plain": [
              "<PIL.Image.Image image mode=RGB size=40x42 at 0x7FD49579ADD0>"
            ]
          },
          "metadata": {},
          "output_type": "display_data"
        },
        {
          "name": "stdout",
          "output_type": "stream",
          "text": [
            "Predicted :  8\n"
          ]
        },
        {
          "data": {
            "image/png": "[encoded data removed]",
            "text/plain": [
              "<PIL.Image.Image image mode=RGB size=40x42 at 0x7FD49595AA10>"
            ]
          },
          "metadata": {},
          "output_type": "display_data"
        },
        {
          "name": "stdout",
          "output_type": "stream",
          "text": [
            "Predicted :  0\n"
          ]
        },
        {
          "data": {
            "image/png": "[encoded data removed]",
            "text/plain": [
              "<PIL.Image.Image image mode=RGB size=40x42 at 0x7FD4956AC290>"
            ]
          },
          "metadata": {},
          "output_type": "display_data"
        },
        {
          "name": "stdout",
          "output_type": "stream",
          "text": [
            "Predicted :  3\n"
          ]
        },
        {
          "data": {
            "image/png": "[encoded data removed]",
            "text/plain": [
              "<PIL.Image.Image image mode=RGB size=40x42 at 0x7FD4956D0850>"
            ]
          },
          "metadata": {},
          "output_type": "display_data"
        },
        {
          "name": "stdout",
          "output_type": "stream",
          "text": [
            "Predicted :  0\n"
          ]
        },
        {
          "data": {
            "image/png": "[encoded data removed]",
            "text/plain": [
              "<PIL.Image.Image image mode=RGB size=40x42 at 0x7FD49576BA10>"
            ]
          },
          "metadata": {},
          "output_type": "display_data"
        },
        {
          "name": "stdout",
          "output_type": "stream",
          "text": [
            "Predicted :  0\n"
          ]
        },
        {
          "data": {
            "image/png": "[encoded data removed]",
            "text/plain": [
              "<PIL.Image.Image image mode=RGB size=40x42 at 0x7FD4956AC890>"
            ]
          },
          "metadata": {},
          "output_type": "display_data"
        },
        {
          "name": "stdout",
          "output_type": "stream",
          "text": [
            "Predicted :  1\n"
          ]
        },
        {
          "data": {
            "image/png": "[encoded data removed]",
            "text/plain": [
              "<PIL.Image.Image image mode=RGB size=40x42 at 0x7FD49512ED10>"
            ]
          },
          "metadata": {},
          "output_type": "display_data"
        },
        {
          "name": "stdout",
          "output_type": "stream",
          "text": [
            "Predicted :  7\n"
          ]
        },
        {
          "data": {
            "image/png": "[encoded data removed]",
            "text/plain": [
              "<PIL.Image.Image image mode=RGB size=40x42 at 0x7FD495725090>"
            ]
          },
          "metadata": {},
          "output_type": "display_data"
        },
        {
          "name": "stdout",
          "output_type": "stream",
          "text": [
            "Predicted :  0\n"
          ]
        },
        {
          "data": {
            "image/png": "[encoded data removed]",
            "text/plain": [
              "<PIL.Image.Image image mode=RGB size=40x42 at 0x7FD49512E850>"
            ]
          },
          "metadata": {},
          "output_type": "display_data"
        },
        {
          "name": "stdout",
          "output_type": "stream",
          "text": [
            "Predicted :  0\n"
          ]
        },
        {
          "data": {
            "image/png": "[encoded data removed]",
            "text/plain": [
              "<PIL.Image.Image image mode=RGB size=40x42 at 0x7FD495780D50>"
            ]
          },
          "metadata": {},
          "output_type": "display_data"
        },
        {
          "name": "stdout",
          "output_type": "stream",
          "text": [
            "Predicted :  0\n"
          ]
        },
        {
          "data": {
            "image/png": "[encoded data removed]",
            "text/plain": [
              "<PIL.Image.Image image mode=RGB size=40x42 at 0x7FD495725550>"
            ]
          },
          "metadata": {},
          "output_type": "display_data"
        },
        {
          "name": "stdout",
          "output_type": "stream",
          "text": [
            "Predicted :  2\n"
          ]
        },
        {
          "data": {
            "image/png": "[encoded data removed]",
            "text/plain": [
              "<PIL.Image.Image image mode=RGB size=40x42 at 0x7FD4957286D0>"
            ]
          },
          "metadata": {},
          "output_type": "display_data"
        },
        {
          "name": "stdout",
          "output_type": "stream",
          "text": [
            "Predicted :  0\n"
          ]
        },
        {
          "data": {
            "image/png": "[encoded data removed]",
            "text/plain": [
              "<PIL.Image.Image image mode=RGB size=40x42 at 0x7FD495BA2250>"
            ]
          },
          "metadata": {},
          "output_type": "display_data"
        },
        {
          "name": "stdout",
          "output_type": "stream",
          "text": [
            "Predicted :  0\n"
          ]
        },
        {
          "data": {
            "image/png": "[encoded data removed]",
            "text/plain": [
              "<PIL.Image.Image image mode=RGB size=40x42 at 0x7FD48F948750>"
            ]
          },
          "metadata": {},
          "output_type": "display_data"
        },
        {
          "name": "stdout",
          "output_type": "stream",
          "text": [
            "Predicted :  0\n"
          ]
        },
        {
          "data": {
            "image/png": "[encoded data removed]",
            "text/plain": [
              "<PIL.Image.Image image mode=RGB size=40x42 at 0x7FD48F948110>"
            ]
          },
          "metadata": {},
          "output_type": "display_data"
        },
        {
          "name": "stdout",
          "output_type": "stream",
          "text": [
            "Predicted :  6\n"
          ]
        },
        {
          "data": {
            "image/png": "[encoded data removed]",
            "text/plain": [
              "<PIL.Image.Image image mode=RGB size=40x42 at 0x7FD495B38790>"
            ]
          },
          "metadata": {},
          "output_type": "display_data"
        },
        {
          "name": "stdout",
          "output_type": "stream",
          "text": [
            "Predicted :  0\n"
          ]
        },
        {
          "data": {
            "image/png": "[encoded data removed]",
            "text/plain": [
              "<PIL.Image.Image image mode=RGB size=40x42 at 0x7FD49576B910>"
            ]
          },
          "metadata": {},
          "output_type": "display_data"
        },
        {
          "name": "stdout",
          "output_type": "stream",
          "text": [
            "Predicted :  6\n"
          ]
        },
        {
          "data": {
            "image/png": "[encoded data removed]",
            "text/plain": [
              "<PIL.Image.Image image mode=RGB size=40x42 at 0x7FD4957A5F50>"
            ]
          },
          "metadata": {},
          "output_type": "display_data"
        },
        {
          "name": "stdout",
          "output_type": "stream",
          "text": [
            "Predicted :  0\n"
          ]
        },
        {
          "data": {
            "image/png": "[encoded data removed]",
            "text/plain": [
              "<PIL.Image.Image image mode=RGB size=40x42 at 0x7FD49576BB10>"
            ]
          },
          "metadata": {},
          "output_type": "display_data"
        },
        {
          "name": "stdout",
          "output_type": "stream",
          "text": [
            "Predicted :  0\n"
          ]
        },
        {
          "data": {
            "image/png": "[encoded data removed]",
            "text/plain": [
              "<PIL.Image.Image image mode=RGB size=40x42 at 0x7FD495B8C490>"
            ]
          },
          "metadata": {},
          "output_type": "display_data"
        },
        {
          "name": "stdout",
          "output_type": "stream",
          "text": [
            "Predicted :  0\n"
          ]
        },
        {
          "data": {
            "image/png": "[encoded data removed]",
            "text/plain": [
              "<PIL.Image.Image image mode=RGB size=40x42 at 0x7FD495B8CFD0>"
            ]
          },
          "metadata": {},
          "output_type": "display_data"
        },
        {
          "name": "stdout",
          "output_type": "stream",
          "text": [
            "Predicted :  0\n"
          ]
        },
        {
          "data": {
            "image/png": "[encoded data removed]",
            "text/plain": [
              "<PIL.Image.Image image mode=RGB size=40x42 at 0x7FD495B8C8D0>"
            ]
          },
          "metadata": {},
          "output_type": "display_data"
        },
        {
          "name": "stdout",
          "output_type": "stream",
          "text": [
            "Predicted :  2\n"
          ]
        },
        {
          "data": {
            "image/png": "[encoded data removed]",
            "text/plain": [
              "<PIL.Image.Image image mode=RGB size=40x42 at 0x7FD49573BFD0>"
            ]
          },
          "metadata": {},
          "output_type": "display_data"
        },
        {
          "name": "stdout",
          "output_type": "stream",
          "text": [
            "Predicted :  8\n"
          ]
        },
        {
          "data": {
            "image/png": "[encoded data removed]",
            "text/plain": [
              "<PIL.Image.Image image mode=RGB size=40x42 at 0x7FD495131A10>"
            ]
          },
          "metadata": {},
          "output_type": "display_data"
        },
        {
          "name": "stdout",
          "output_type": "stream",
          "text": [
            "Predicted :  0\n"
          ]
        },
        {
          "data": {
            "image/png": "[encoded data removed]",
            "text/plain": [
              "<PIL.Image.Image image mode=RGB size=40x42 at 0x7FD4957A7E10>"
            ]
          },
          "metadata": {},
          "output_type": "display_data"
        },
        {
          "name": "stdout",
          "output_type": "stream",
          "text": [
            "Predicted :  0\n"
          ]
        },
        {
          "data": {
            "image/png": "[encoded data removed]",
            "text/plain": [
              "<PIL.Image.Image image mode=RGB size=40x42 at 0x7FD4957A76D0>"
            ]
          },
          "metadata": {},
          "output_type": "display_data"
        },
        {
          "name": "stdout",
          "output_type": "stream",
          "text": [
            "Predicted :  0\n"
          ]
        },
        {
          "data": {
            "image/png": "[encoded data removed]",
            "text/plain": [
              "<PIL.Image.Image image mode=RGB size=40x42 at 0x7FD49576D990>"
            ]
          },
          "metadata": {},
          "output_type": "display_data"
        },
        {
          "name": "stdout",
          "output_type": "stream",
          "text": [
            "Predicted :  0\n"
          ]
        },
        {
          "data": {
            "image/png": "[encoded data removed]",
            "text/plain": [
              "<PIL.Image.Image image mode=RGB size=40x42 at 0x7FD49576DD90>"
            ]
          },
          "metadata": {},
          "output_type": "display_data"
        },
        {
          "name": "stdout",
          "output_type": "stream",
          "text": [
            "Predicted :  4\n"
          ]
        },
        {
          "data": {
            "image/png": "[encoded data removed]",
            "text/plain": [
              "<PIL.Image.Image image mode=RGB size=40x42 at 0x7FD495CE0390>"
            ]
          },
          "metadata": {},
          "output_type": "display_data"
        },
        {
          "name": "stdout",
          "output_type": "stream",
          "text": [
            "Predicted :  1\n"
          ]
        },
        {
          "data": {
            "image/png": "[encoded data removed]",
            "text/plain": [
              "<PIL.Image.Image image mode=RGB size=40x42 at 0x7FD4957A4750>"
            ]
          },
          "metadata": {},
          "output_type": "display_data"
        },
        {
          "name": "stdout",
          "output_type": "stream",
          "text": [
            "Predicted :  9\n"
          ]
        },
        {
          "data": {
            "image/png": "[encoded data removed]",
            "text/plain": [
              "<PIL.Image.Image image mode=RGB size=40x42 at 0x7FD4957A7BD0>"
            ]
          },
          "metadata": {},
          "output_type": "display_data"
        },
        {
          "name": "stdout",
          "output_type": "stream",
          "text": [
            "Predicted :  0\n"
          ]
        },
        {
          "data": {
            "image/png": "[encoded data removed]",
            "text/plain": [
              "<PIL.Image.Image image mode=RGB size=40x42 at 0x7FD49521EA10>"
            ]
          },
          "metadata": {},
          "output_type": "display_data"
        },
        {
          "name": "stdout",
          "output_type": "stream",
          "text": [
            "Predicted :  0\n"
          ]
        },
        {
          "data": {
            "image/png": "[encoded data removed]",
            "text/plain": [
              "<PIL.Image.Image image mode=RGB size=40x42 at 0x7FD4951A1850>"
            ]
          },
          "metadata": {},
          "output_type": "display_data"
        },
        {
          "name": "stdout",
          "output_type": "stream",
          "text": [
            "Predicted :  5\n"
          ]
        },
        {
          "data": {
            "image/png": "[encoded data removed]",
            "text/plain": [
              "<PIL.Image.Image image mode=RGB size=40x42 at 0x7FD49520C390>"
            ]
          },
          "metadata": {},
          "output_type": "display_data"
        },
        {
          "name": "stdout",
          "output_type": "stream",
          "text": [
            "Predicted :  0\n"
          ]
        },
        {
          "data": {
            "image/png": "[encoded data removed]",
            "text/plain": [
              "<PIL.Image.Image image mode=RGB size=40x42 at 0x7FD49578F1D0>"
            ]
          },
          "metadata": {},
          "output_type": "display_data"
        },
        {
          "name": "stdout",
          "output_type": "stream",
          "text": [
            "Predicted :  0\n"
          ]
        },
        {
          "data": {
            "image/png": "[encoded data removed]",
            "text/plain": [
              "<PIL.Image.Image image mode=RGB size=40x42 at 0x7FD49578F190>"
            ]
          },
          "metadata": {},
          "output_type": "display_data"
        },
        {
          "name": "stdout",
          "output_type": "stream",
          "text": [
            "Predicted :  0\n"
          ]
        },
        {
          "data": {
            "image/png": "[encoded data removed]",
            "text/plain": [
              "<PIL.Image.Image image mode=RGB size=40x42 at 0x7FD49578FBD0>"
            ]
          },
          "metadata": {},
          "output_type": "display_data"
        },
        {
          "name": "stdout",
          "output_type": "stream",
          "text": [
            "Predicted :  0\n"
          ]
        },
        {
          "data": {
            "image/png": "[encoded data removed]",
            "text/plain": [
              "<PIL.Image.Image image mode=RGB size=40x42 at 0x7FD49578FC50>"
            ]
          },
          "metadata": {},
          "output_type": "display_data"
        },
        {
          "name": "stdout",
          "output_type": "stream",
          "text": [
            "Predicted :  8\n"
          ]
        },
        {
          "data": {
            "image/png": "[encoded data removed]",
            "text/plain": [
              "<PIL.Image.Image image mode=RGB size=40x42 at 0x7FD49518B850>"
            ]
          },
          "metadata": {},
          "output_type": "display_data"
        },
        {
          "name": "stdout",
          "output_type": "stream",
          "text": [
            "Predicted :  0\n"
          ]
        },
        {
          "data": {
            "image/png": "[encoded data removed]",
            "text/plain": [
              "<PIL.Image.Image image mode=RGB size=40x42 at 0x7FD49578FD10>"
            ]
          },
          "metadata": {},
          "output_type": "display_data"
        },
        {
          "name": "stdout",
          "output_type": "stream",
          "text": [
            "Predicted :  0\n"
          ]
        },
        {
          "data": {
            "image/png": "[encoded data removed]",
            "text/plain": [
              "<PIL.Image.Image image mode=RGB size=40x42 at 0x7FD49518B710>"
            ]
          },
          "metadata": {},
          "output_type": "display_data"
        },
        {
          "name": "stdout",
          "output_type": "stream",
          "text": [
            "Predicted :  7\n"
          ]
        },
        {
          "data": {
            "image/png": "[encoded data removed]",
            "text/plain": [
              "<PIL.Image.Image image mode=RGB size=40x42 at 0x7FD49521EE10>"
            ]
          },
          "metadata": {},
          "output_type": "display_data"
        },
        {
          "name": "stdout",
          "output_type": "stream",
          "text": [
            "Predicted :  9\n"
          ]
        }
      ],
      "source": [
        "# Loop over all cells of the input image and predict each digit using the trained prediction model\n",
        "# For blank cell we will predict digit as zero to differentiate\n",
        "\n",
        "\n",
        "pred = []\n",
        "num = re.compile(r'(\\d+)')\n",
        "img_dict = {int(num.split(k)[1]): k for k in glob.glob('./cropnum/*.jpg')}\n",
        "sorted_img_dict = dict(sorted(img_dict.items()))\n",
        "for key, path in sorted_img_dict.items():\n",
        "    \n",
        "  img = cv.imread(path)\n",
        "  \n",
        "  cv2_imshow(img)\n",
        "  img = img[:,:,0]\n",
        "  height,width=img.shape[:2]\n",
        "  start_row,start_col=int(width*0.35),int(height*0.35)\n",
        "  end_row,end_col=int(width * 0.75),int(height * 0.75)\n",
        "\n",
        "\n",
        "  cropped=img[start_row:end_row,start_col:end_col]\n",
        "  # img = cropped\n",
        "  # cv2_imshow(cropped)\n",
        "  binarr = np.where(cropped>127,255,0)\n",
        "  img = cv.resize(img, (32, 32))\n",
        "  img= img.astype('float32')\n",
        "  img = img.reshape(1, 32, 32, 1)\n",
        "  img = 255-img\n",
        "  img /= 255\n",
        " \n",
        "    \n",
        "  test = np.array(img)\n",
        "  # print(np.sum(binarr == 255))\n",
        "  if(np.sum(binarr == 255) >= 260):\n",
        "    max_prediction = 0\n",
        "  else:\n",
        "    prediction = model1.predict(test[:1])[0]\n",
        "    # print(prediction)\n",
        "    max_prediction = np.argmax(prediction)\n",
        "  print(\"Predicted : \",max_prediction)\n",
        "  pred.append(max_prediction)"
      ]
    },
    {
      "cell_type": "code",
      "execution_count": null,
      "metadata": {
        "colab": {
          "base_uri": "https://localhost:8080/"
        },
        "id": "bFx8HKtiPjSZ",
        "outputId": "13429e02-df6e-4d29-d0a6-698845488eff"
      },
      "outputs": [
        {
          "name": "stdout",
          "output_type": "stream",
          "text": [
            "5 3 0 0 7 0 0 0 0\n",
            "6 0 0 1 9 5 0 0 0\n",
            "0 9 8 0 0 0 0 6 0\n",
            "8 0 0 0 6 0 0 0 3\n",
            "4 0 0 8 0 3 0 0 1\n",
            "7 0 0 0 2 0 0 0 6\n",
            "0 6 0 0 0 0 2 8 0\n",
            "0 0 0 4 1 9 0 0 5\n",
            "0 0 0 0 8 0 0 7 9\n"
          ]
        }
      ],
      "source": [
        "n=9\n",
        "grid = [pred[i:i + n] for i in range(0, len(pred), n)]\n",
        "print ('\\n'.join(' '.join(map(str, x)) for x in grid))"
      ]
    },
    {
      "cell_type": "code",
      "execution_count": null,
      "metadata": {
        "colab": {
          "base_uri": "https://localhost:8080/"
        },
        "id": "Ox4IgIR-Ppnm",
        "outputId": "e425ca42-90e3-434a-aaae-08b7359af742"
      },
      "outputs": [
        {
          "name": "stdout",
          "output_type": "stream",
          "text": [
            " The Sudoku puzzle after digit recognition is :\n"
          ]
        }
      ],
      "source": [
        "print(\" The Sudoku puzzle after digit recognition is :\")\n"
      ]
    },
    {
      "cell_type": "code",
      "execution_count": null,
      "metadata": {
        "colab": {
          "base_uri": "https://localhost:8080/"
        },
        "id": "_EaMnG_peii6",
        "outputId": "82baa8ce-e001-4f2d-9f89-8073d0d9dc8d"
      },
      "outputs": [
        {
          "data": {
            "text/plain": [
              "[[5, 3, 0, 0, 7, 0, 0, 0, 0],\n",
              " [6, 0, 0, 1, 9, 5, 0, 0, 0],\n",
              " [0, 9, 8, 0, 0, 0, 0, 6, 0],\n",
              " [8, 0, 0, 0, 6, 0, 0, 0, 3],\n",
              " [4, 0, 0, 8, 0, 3, 0, 0, 1],\n",
              " [7, 0, 0, 0, 2, 0, 0, 0, 6],\n",
              " [0, 6, 0, 0, 0, 0, 2, 8, 0],\n",
              " [0, 0, 0, 4, 1, 9, 0, 0, 5],\n",
              " [0, 0, 0, 0, 8, 0, 0, 7, 9]]"
            ]
          },
          "execution_count": 22,
          "metadata": {},
          "output_type": "execute_result"
        }
      ],
      "source": [
        "grid"
      ]
    },
    {
      "cell_type": "markdown",
      "metadata": {
        "id": "ydaeD0n9gNfG"
      },
      "source": [
        "Part 3 - Training a deep learning model for solving sudoku puzzle"
      ]
    },
    {
      "cell_type": "code",
      "execution_count": 6,
      "metadata": {
        "colab": {
          "base_uri": "https://localhost:8080/"
        },
        "id": "92gpCE9-gUu6",
        "outputId": "c703cf28-2432-4eee-fcf5-d3bbdff896ec"
      },
      "outputs": [
        {
          "name": "stdout",
          "output_type": "stream",
          "text": [
            "changed 42\n"
          ]
        }
      ],
      "source": [
        "# Loading dataset sudoku.csv from Kaggle\n",
        "# Example path = \"/content/dataset/sudoku.csv\" OR \"/content/drive/MyDrive/DL Project/input/sudoku.csv\"\n",
        "x_train, x_test, y_train_1, y_test = load_sudoku_data(\"/content/drive/MyDrive/DL Project/input/sudoku.csv\")"
      ]
    },
    {
      "cell_type": "code",
      "execution_count": null,
      "metadata": {
        "id": "nXAmBJ-hmBV1"
      },
      "outputs": [],
      "source": [
        "y_train_1"
      ]
    },
    {
      "cell_type": "code",
      "execution_count": null,
      "metadata": {
        "colab": {
          "base_uri": "https://localhost:8080/"
        },
        "id": "sBCiUO04i64Y",
        "outputId": "b893ebf6-373b-465e-dd95-bcc20b451964"
      },
      "outputs": [
        {
          "name": "stdout",
          "output_type": "stream",
          "text": [
            "(800000, 9, 9, 1)\n"
          ]
        }
      ],
      "source": [
        "print(x_train.shape)"
      ]
    },
    {
      "cell_type": "code",
      "execution_count": null,
      "metadata": {
        "id": "GeuCpHtbjZx7"
      },
      "outputs": [],
      "source": [
        "# Train the data\n",
        "solver_model = get_Sudoku_model(input_shape=(9,9,1), activation_functions= activation_functions, padding=\"same\")\n",
        "adam = tf.keras.optimizers.Adam(lr= learning_rate)\n",
        "solver_model.compile(loss='sparse_categorical_crossentropy', optimizer=adam)\n",
        "# solver_model.compile(optimizer = adam,loss=tf.keras.losses.SparseCategoricalCrossentropy())\n",
        "solver_model.fit(x_train, y_train, batch_size=32, epochs=2)"
      ]
    },
    {
      "cell_type": "code",
      "execution_count": null,
      "metadata": {
        "id": "c3e3iSkXqedI"
      },
      "outputs": [],
      "source": [
        "# Saving the model"
      ]
    },
    {
      "cell_type": "code",
      "execution_count": 4,
      "metadata": {
        "id": "SHueoOEyQyCx"
      },
      "outputs": [],
      "source": [
        "sudoku_model = keras.models.load_model('model/sudoku.model')"
      ]
    },
    {
      "cell_type": "code",
      "execution_count": 5,
      "metadata": {
        "id": "AUoqOPnOtWdR"
      },
      "outputs": [],
      "source": [
        "grid = [[5, 3, 0, 0, 7, 0, 0, 0, 0],\n",
        " [6, 0, 0, 1, 9, 5, 0, 0, 0],\n",
        " [0, 9, 8, 0, 0, 0, 0, 6, 0],\n",
        " [8, 0, 0, 0, 6, 0, 0, 0, 3],\n",
        " [4, 0, 0, 8, 0, 3, 0, 0, 1],\n",
        " [7, 0, 0, 0, 2, 0, 0, 0, 6],\n",
        " [0, 6, 0, 0, 0, 0, 2, 8, 0],\n",
        " [0, 0, 0, 4, 1, 9, 0, 0, 5],\n",
        " [0, 0, 0, 0, 8, 0, 0, 7, 9]]\n",
        " "
      ]
    },
    {
      "cell_type": "code",
      "execution_count": 6,
      "metadata": {
        "colab": {
          "base_uri": "https://localhost:8080/"
        },
        "id": "6RhiqULSQ-l6",
        "outputId": "bccd2dbd-6243-464e-d6c7-bb5b0b1c3509"
      },
      "outputs": [
        {
          "name": "stdout",
          "output_type": "stream",
          "text": [
            "[[5, 3, 0, 0, 7, 0, 0, 0, 0], [6, 0, 0, 1, 9, 5, 0, 0, 0], [0, 9, 8, 0, 0, 0, 0, 6, 0], [8, 0, 0, 0, 6, 0, 0, 0, 3], [4, 0, 0, 8, 0, 3, 0, 0, 1], [7, 0, 0, 0, 2, 0, 0, 0, 6], [0, 6, 0, 0, 0, 0, 2, 8, 0], [0, 0, 0, 4, 1, 9, 0, 0, 5], [0, 0, 0, 0, 8, 0, 0, 7, 9]]\n"
          ]
        }
      ],
      "source": [
        "game = grid\n",
        "print(game)"
      ]
    },
    {
      "cell_type": "code",
      "execution_count": 10,
      "metadata": {
        "colab": {
          "base_uri": "https://localhost:8080/"
        },
        "id": "Z4OzQZ21RBnp",
        "outputId": "8dbb1807-c53b-4617-96b9-388987b438e6"
      },
      "outputs": [
        {
          "name": "stdout",
          "output_type": "stream",
          "text": [
            "Solution :\n",
            "[[5 3 4 6 7 8 9 1 2]\n",
            " [6 7 2 1 9 5 3 4 8]\n",
            " [1 9 8 3 4 2 5 6 7]\n",
            " [8 5 9 7 6 1 4 2 3]\n",
            " [4 2 6 8 5 3 7 9 1]\n",
            " [7 1 3 9 2 4 8 5 6]\n",
            " [9 6 1 5 3 7 2 8 4]\n",
            " [2 8 7 4 1 9 6 3 5]\n",
            " [3 4 5 2 8 6 1 7 9]]\n"
          ]
        }
      ],
      "source": [
        "answer = solve_sudoku(game, sudoku_model=sudoku_model,  sudoku_shape= sudoku_shape)\n",
        "print('Solution :')\n",
        "print(answer)"
      ]
    },
    {
      "cell_type": "code",
      "execution_count": 14,
      "metadata": {
        "colab": {
          "base_uri": "https://localhost:8080/"
        },
        "id": "Cs8KVcwmRDJk",
        "outputId": "8aa44373-1084-4f72-fd63-7dfefbadf89b"
      },
      "outputs": [
        {
          "name": "stdout",
          "output_type": "stream",
          "text": [
            "[45 45 45 45 45 45 45 45 45]\n",
            "VUHOOOOOO! SODOKU SOLVED AT LIGHTENING SPEED\n",
            "[45 45 45 45 45 45 45 45 45]\n",
            "VUHOOOOOO! SODOKU SOLVED AT LIGHTENING SPEED\n"
          ]
        }
      ],
      "source": [
        "final_check_column = np.sum(answer, axis=1)\n",
        "\n",
        "print(final_check_column)\n",
        "for x in range(len(final_check_column)):\n",
        "  if(final_check_column[x] != 45):\n",
        "    print(\"Wrong Output\")\n",
        "    break;\n",
        "  if(x == len(final_check_column)-1):\n",
        "    print(\"VUHOOOOOO! SODOKU SOLVED AT LIGHTENING SPEED\")\n",
        "\n",
        "\n",
        "final_check_row = np.sum(answer, axis=0)\n",
        "print(final_check_row)\n",
        "for x in range(len(final_check_row)):\n",
        "  if(final_check_row[x] != 45):\n",
        "    print(\"Wrong Output\")\n",
        "    break;\n",
        "  if(x == len(final_check_row)-1):\n",
        "    print(\"VUHOOOOOO! SODOKU SOLVED AT LIGHTENING SPEED\")\n"
      ]
    }
  ],
  "metadata": {
    "accelerator": "GPU",
    "colab": {
      "collapsed_sections": [],
      "name": "sudoku-dl-project-v3.ipynb",
      "provenance": []
    },
    "kernelspec": {
      "display_name": "Python 3",
      "name": "python3"
    },
    "language_info": {
      "name": "python"
    }
  },
  "nbformat": 4,
  "nbformat_minor": 0
}
